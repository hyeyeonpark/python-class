{
  "nbformat": 4,
  "nbformat_minor": 0,
  "metadata": {
    "colab": {
      "name": "0103연습노트_1.ipynb",
      "provenance": [],
      "collapsed_sections": [],
      "authorship_tag": "ABX9TyMHTntNc6wQXZOx+wo1JXbV",
      "include_colab_link": true
    },
    "kernelspec": {
      "name": "python3",
      "display_name": "Python 3"
    }
  },
  "cells": [
    {
      "cell_type": "markdown",
      "metadata": {
        "id": "view-in-github",
        "colab_type": "text"
      },
      "source": [
        "<a href=\"https://colab.research.google.com/github/hyeyeonpark/python-class/blob/main/0103%EC%97%B0%EC%8A%B5%EB%85%B8%ED%8A%B8_1.ipynb\" target=\"_parent\"><img src=\"https://colab.research.google.com/assets/colab-badge.svg\" alt=\"Open In Colab\"/></a>"
      ]
    },
    {
      "cell_type": "code",
      "metadata": {
        "colab": {
          "base_uri": "https://localhost:8080/"
        },
        "id": "XGvQWtJCWYy_",
        "outputId": "597faefc-746d-4c4d-d1a8-7e111a86bbc5"
      },
      "source": [
        "students = [\r\n",
        "            {\"name\":\"윤인성\",\"korean\":87,\"math\":98,\"english\":88,\"science\":95},\r\n",
        "            {\"name\":\"연하진\",\"korean\":67,\"math\":88,\"english\":84,\"science\":91},\r\n",
        "            {\"name\":\"윤명월\",\"korean\":90,\"math\":98,\"english\":78,\"science\":99},\r\n",
        "]\r\n",
        "\r\n",
        "print(\"이름\",\"총점\",\"평균\",sep=\"\\t\")\r\n",
        "\r\n",
        "for student in students:\r\n",
        "  score_sum = student[\"korean\"] + student[\"math\"] + student[\"english\"]+student[\"science\"]\r\n",
        "\r\n",
        "  score_average = score_sum / 4\r\n",
        "\r\n",
        "  print(student[\"name\"], score_sum, score_average, sep=\"\\t\")\r\n",
        "\r\n",
        "  "
      ],
      "execution_count": 1,
      "outputs": [
        {
          "output_type": "stream",
          "text": [
            "이름\t총점\t평균\n",
            "윤인성\t368\t92.0\n",
            "연하진\t330\t82.5\n",
            "윤명월\t365\t91.25\n"
          ],
          "name": "stdout"
        }
      ]
    },
    {
      "cell_type": "code",
      "metadata": {
        "colab": {
          "base_uri": "https://localhost:8080/"
        },
        "id": "rzSD0w1oX4PJ",
        "outputId": "4c8af94c-076f-462a-8785-345659c624b1"
      },
      "source": [
        "def create_student(name, korean, math, english, science):\r\n",
        "  return{\"name\": name,\r\n",
        "         \"korean\":korean,\r\n",
        "         \"math\": math,\r\n",
        "         \"english\": english,\r\n",
        "         \"science\":science\r\n",
        "         }\r\n",
        "\r\n",
        "students = [\r\n",
        "            create_student(\"윤인성\",34,78,90,32),\r\n",
        "            create_student(\"연하진\",94,68,90,36),\r\n",
        "            create_student(\"윤명월\",45,98,90,87),\r\n",
        "]\r\n",
        "\r\n",
        "print(\"이름\",\"총점\",\"평균\", sep =\"\\t\")\r\n",
        "for student in students:\r\n",
        "  score_sum = student[\"korean\"]+student[\"math\"]+student[\"english\"]+student[\"science\"]\r\n",
        "\r\n",
        "  score_average = score_sum /4\r\n",
        "\r\n",
        "  print(student[\"name\"], score_sum, score_average, sep =\"\\t\")"
      ],
      "execution_count": 6,
      "outputs": [
        {
          "output_type": "stream",
          "text": [
            "이름\t총점\t평균\n",
            "윤인성\t234\t58.5\n",
            "연하진\t288\t72.0\n",
            "윤명월\t320\t80.0\n"
          ],
          "name": "stdout"
        }
      ]
    },
    {
      "cell_type": "code",
      "metadata": {
        "colab": {
          "base_uri": "https://localhost:8080/"
        },
        "id": "ns_PZWkCZorX",
        "outputId": "87f683a5-d3dc-47cc-d508-2cf8890025b2"
      },
      "source": [
        "def create_student(name, korean, math, english, science):\r\n",
        "  return{\"name\": name,\r\n",
        "         \"korean\":korean,\r\n",
        "         \"math\": math,\r\n",
        "         \"english\": english,\r\n",
        "         \"science\":science\r\n",
        "         }\r\n",
        "\r\n",
        "def student_get_sum(student):\r\n",
        "  return student[\"korean\"]+student[\"math\"]+student[\"english\"]+student[\"science\"]\r\n",
        "\r\n",
        "def student_get_average(student):\r\n",
        "  return student_get_sum(student) / 4\r\n",
        "\r\n",
        "def student_to_string(student):\r\n",
        "  return \"{}\\t{}\\t{}\".format(student[\"name\"],student_get_sum(student),student_get_average(student))\r\n",
        "\r\n",
        "\r\n",
        "students = [\r\n",
        "            create_student(\"윤인성\", 78,78,90,55),\r\n",
        "            create_student(\"코난\",89,34,87,90)\r\n",
        "]\r\n",
        "\r\n",
        "\r\n",
        "print(\"이름\",\"총점\",\"평균\", sep=\"\\t\")\r\n",
        "for student in students:\r\n",
        "  print(student_to_string(student))"
      ],
      "execution_count": 9,
      "outputs": [
        {
          "output_type": "stream",
          "text": [
            "이름\t총점\t평균\n",
            "윤인성\t301\t75.25\n",
            "코난\t300\t75.0\n"
          ],
          "name": "stdout"
        }
      ]
    },
    {
      "cell_type": "code",
      "metadata": {
        "colab": {
          "base_uri": "https://localhost:8080/"
        },
        "id": "dFEbDbhadd79",
        "outputId": "d20e46ec-86f7-455f-a6a8-e38192a78441"
      },
      "source": [
        "class student:\r\n",
        "  def __init__(self, name, korean, math, english, science):\r\n",
        "    self.name = name\r\n",
        "    self.korean = korean\r\n",
        "    self.math = math\r\n",
        "    self.english = english\r\n",
        "    self.science = science\r\n",
        "\r\n",
        "  def get_sum(self):\r\n",
        "    return self.korean + self.math + self.english + self.science\r\n",
        "  \r\n",
        "  def get_average(self):\r\n",
        "    return self.get_sum() / 4\r\n",
        "\r\n",
        "  def to_string(self):\r\n",
        "    return \"{}\\t{}\\t{}\".format(self.name, self.get_sum(), self.get_average())\r\n",
        "\r\n",
        "students = [\r\n",
        "            student(\"코난\",67,65,88,98),\r\n",
        "            student(\"홍장미\",87,88,98,65)\r\n",
        "            ]\r\n",
        "\r\n",
        "print(\"이름\", \"총점\", \"평균\", sep=\"\\t\")\r\n",
        "\r\n",
        "for student in students:\r\n",
        "  print(student.to_string())\r\n",
        "\r\n",
        "  #ㅎ ㅜ ...짜증나\r\n"
      ],
      "execution_count": 24,
      "outputs": [
        {
          "output_type": "stream",
          "text": [
            "이름\t총점\t평균\n",
            "코난\t318\t79.5\n",
            "홍장미\t338\t84.5\n"
          ],
          "name": "stdout"
        }
      ]
    },
    {
      "cell_type": "code",
      "metadata": {
        "colab": {
          "base_uri": "https://localhost:8080/"
        },
        "id": "htmlADcfkiaH",
        "outputId": "4cc0a42a-78a8-486a-c416-d833e8b49eea"
      },
      "source": [
        "class Student:\r\n",
        "  def study(self):\r\n",
        "    print(\"공부를 합시다.\")\r\n",
        "\r\n",
        "class Teacher:\r\n",
        "  def teach(self):\r\n",
        "    print(\"학생을 가르칩니다.\")\r\n",
        "\r\n",
        "classroom = [Student(),Student(),Teacher(),Student(),Student()]\r\n",
        "\r\n",
        "for person in classroom:\r\n",
        "  if isinstance(person,Student):\r\n",
        "    person.study()\r\n",
        "  elif isinstance(person,Teacher):\r\n",
        "    person.teach()\r\n",
        "    "
      ],
      "execution_count": 26,
      "outputs": [
        {
          "output_type": "stream",
          "text": [
            "공부를 합시다.\n",
            "공부를 합시다.\n",
            "학생을 가르칩니다.\n",
            "공부를 합시다.\n",
            "공부를 합시다.\n"
          ],
          "name": "stdout"
        }
      ]
    },
    {
      "cell_type": "code",
      "metadata": {
        "colab": {
          "base_uri": "https://localhost:8080/"
        },
        "id": "t8Xu8Do6oJbR",
        "outputId": "2535e27b-bc6d-40f9-92c2-b9cd9633d5d1"
      },
      "source": [
        "class Student:\r\n",
        "  def __init__(self, name, korean, math, english, science):\r\n",
        "    self.name = name\r\n",
        "    self.korean = korean\r\n",
        "    self.math = math\r\n",
        "    self.english = english\r\n",
        "    self.science = science\r\n",
        "\r\n",
        "  def get_sum(self):\r\n",
        "    return self.korean + self.math + self.english + self.science\r\n",
        "  \r\n",
        "  def get_average(self):\r\n",
        "    return self.get_sum() / 4\r\n",
        " \r\n",
        "  def __str__(self):\r\n",
        "    return \"{}\\t{}\\t{}\".format(\r\n",
        "        self.name,\r\n",
        "        self.get_sum(),\r\n",
        "        self.get_average())\r\n",
        "    \r\n",
        "  def __eq__(self, value):\r\n",
        "    return self.get_sum() == value.get_sum()\r\n",
        "\r\n",
        "  def __ne__(self,value):\r\n",
        "    return self.get_sum() != value.get_sum()\r\n",
        "\r\n",
        "  def __gt__(self,value):\r\n",
        "    return self.get_sum() > value.get_sum()\r\n",
        "  \r\n",
        "  def __ge__(self, value):\r\n",
        "    return self.get_sum() >= value.get_sum()\r\n",
        "\r\n",
        "  def __lt__(self, value):\r\n",
        "    return self.get_sum() < value.get_sum()\r\n",
        "\r\n",
        "  def __le__(self, value):\r\n",
        "    return self.get_sum() <= value.get_sum()\r\n",
        "\r\n",
        "students = [Student(\"코난\",35,76,89,98),Student(\"하이바라\",67,35,89,80)]\r\n",
        "\r\n",
        "student_a = Student(\"코난\",35,76,89,98)\r\n",
        "student_b = Student(\"하이바라\",67,35,89,80)\r\n",
        "\r\n",
        "print(student_a == student_b)\r\n",
        "\r\n",
        "  #들여쓰기의 중요성 ^^"
      ],
      "execution_count": 34,
      "outputs": [
        {
          "output_type": "stream",
          "text": [
            "False\n"
          ],
          "name": "stdout"
        }
      ]
    },
    {
      "cell_type": "code",
      "metadata": {
        "colab": {
          "base_uri": "https://localhost:8080/"
        },
        "id": "lvonJDPcq4MG",
        "outputId": "a0d2cec6-998d-4d9e-be69-fb6dd43ee09d"
      },
      "source": [
        "class Student:\r\n",
        "  count = 0\r\n",
        "\r\n",
        "  def __init__(self, name, korean, math, english, science):\r\n",
        "\r\n",
        "    self.name = name \r\n",
        "    self.korean = korean\r\n",
        "    self.math = math\r\n",
        "    self.english = english\r\n",
        "    self.science = science\r\n",
        "\r\n",
        "    Student.count += 1\r\n",
        "    print(\"{}번째 학생이 생성되었습니다.\".format(Student.count))\r\n",
        "\r\n",
        "\r\n",
        "students = [\r\n",
        "            Student(\"코난\",56,85,87,56),\r\n",
        "            Student(\"라일라\",68,56,87,98)\r\n",
        "]\r\n",
        "\r\n",
        "print()\r\n",
        "\r\n",
        "print(\"현재 생성된 총 학생수는 {}명입니다\".format(Student.count))\r\n",
        "\r\n"
      ],
      "execution_count": 33,
      "outputs": [
        {
          "output_type": "stream",
          "text": [
            "1번째 학생이 생성되었습니다.\n",
            "2번째 학생이 생성되었습니다.\n",
            "\n",
            "현재 생성된 총 학생수는 2명입니다\n"
          ],
          "name": "stdout"
        }
      ]
    },
    {
      "cell_type": "code",
      "metadata": {
        "colab": {
          "base_uri": "https://localhost:8080/"
        },
        "id": "odzHtpV6vjdN",
        "outputId": "a8221cc0-17c4-42cb-b356-dc397cd2a8a4"
      },
      "source": [
        "import math\r\n",
        "\r\n",
        "class Circle:\r\n",
        "  def __init__(self, radius):\r\n",
        "    self.radius = radius\r\n",
        "  def get_circumference(self):\r\n",
        "    return 2 * math.pi * self.radius\r\n",
        "  def get_area(self):\r\n",
        "    return math.pi * (self.radius ** 2)\r\n",
        "\r\n",
        "circle = Circle(10)\r\n",
        "\r\n",
        "print(\"원의 둘레:\", circle.get_circumference())\r\n",
        "print(\"원의 널비:\", circle.get_area())\r\n",
        "\r\n"
      ],
      "execution_count": 35,
      "outputs": [
        {
          "output_type": "stream",
          "text": [
            "원의 둘레: 62.83185307179586\n",
            "원의 널비: 314.1592653589793\n"
          ],
          "name": "stdout"
        }
      ]
    },
    {
      "cell_type": "code",
      "metadata": {
        "colab": {
          "base_uri": "https://localhost:8080/",
          "height": 280
        },
        "id": "8aobscdlyzEi",
        "outputId": "30b84f59-5880-45ac-88bd-bce84d85f292"
      },
      "source": [
        "import math\r\n",
        "\r\n",
        "class Circle:\r\n",
        "  def __init__(self, radius):\r\n",
        "    self.__radius = radius\r\n",
        "  def get_circumference(self):\r\n",
        "    return 2 * math.pi * self.__radius\r\n",
        "  def get_area(self):\r\n",
        "    return math.pi * (self.__radius ** 2)\r\n",
        "\r\n",
        "circle = Circle(10)\r\n",
        "\r\n",
        "print(\"원의 둘레:\", circle.get_circumference())\r\n",
        "print(\"원의 널비:\", circle.get_area())\r\n",
        "print()\r\n",
        "\r\n",
        "print(circle.__radius)\r\n",
        "\r\n"
      ],
      "execution_count": 36,
      "outputs": [
        {
          "output_type": "stream",
          "text": [
            "원의 둘레: 62.83185307179586\n",
            "원의 널비: 314.1592653589793\n",
            "\n"
          ],
          "name": "stdout"
        },
        {
          "output_type": "error",
          "ename": "AttributeError",
          "evalue": "ignored",
          "traceback": [
            "\u001b[0;31m---------------------------------------------------------------------------\u001b[0m",
            "\u001b[0;31mAttributeError\u001b[0m                            Traceback (most recent call last)",
            "\u001b[0;32m<ipython-input-36-c6c298b4e8d3>\u001b[0m in \u001b[0;36m<module>\u001b[0;34m()\u001b[0m\n\u001b[1;32m     15\u001b[0m \u001b[0mprint\u001b[0m\u001b[0;34m(\u001b[0m\u001b[0;34m)\u001b[0m\u001b[0;34m\u001b[0m\u001b[0;34m\u001b[0m\u001b[0m\n\u001b[1;32m     16\u001b[0m \u001b[0;34m\u001b[0m\u001b[0m\n\u001b[0;32m---> 17\u001b[0;31m \u001b[0mprint\u001b[0m\u001b[0;34m(\u001b[0m\u001b[0mcircle\u001b[0m\u001b[0;34m.\u001b[0m\u001b[0m__radius\u001b[0m\u001b[0;34m)\u001b[0m\u001b[0;34m\u001b[0m\u001b[0;34m\u001b[0m\u001b[0m\n\u001b[0m\u001b[1;32m     18\u001b[0m \u001b[0;34m\u001b[0m\u001b[0m\n",
            "\u001b[0;31mAttributeError\u001b[0m: 'Circle' object has no attribute '__radius'"
          ]
        }
      ]
    },
    {
      "cell_type": "code",
      "metadata": {
        "colab": {
          "base_uri": "https://localhost:8080/",
          "height": 406
        },
        "id": "yvgIaUCNzTuo",
        "outputId": "2d74c698-bf21-4f9b-b9dc-4d2a91bcddeb"
      },
      "source": [
        "import math\r\n",
        "\r\n",
        "class Circle:\r\n",
        "  def __init__(self, radius):\r\n",
        "    self.radius = radius\r\n",
        "  def get_circumference(self):\r\n",
        "    return 2 * math.pi * self.radius\r\n",
        "  def get_area(self):\r\n",
        "    return math.pi * (self.radius ** 2)\r\n",
        "\r\n",
        "  def get_radius(self):\r\n",
        "    return self.__radius\r\n",
        "\r\n",
        "  def set_radius(self,value):\r\n",
        "    self.__radius = value\r\n",
        "\r\n",
        "\r\n",
        "circle = Circle(10)\r\n",
        "\r\n",
        "print(\"원의 둘레:\", circle.get_circumference())\r\n",
        "print(\"원의 널비:\", circle.get_area())\r\n",
        "\r\n",
        "print(circle.get_radius())\r\n",
        "\r\n",
        "\r\n",
        "circle.set_radius(2)\r\n",
        "\r\n",
        "print(circle.get_circumference())\r\n"
      ],
      "execution_count": 38,
      "outputs": [
        {
          "output_type": "stream",
          "text": [
            "원의 둘레: 62.83185307179586\n",
            "원의 널비: 314.1592653589793\n"
          ],
          "name": "stdout"
        },
        {
          "output_type": "error",
          "ename": "AttributeError",
          "evalue": "ignored",
          "traceback": [
            "\u001b[0;31m---------------------------------------------------------------------------\u001b[0m",
            "\u001b[0;31mAttributeError\u001b[0m                            Traceback (most recent call last)",
            "\u001b[0;32m<ipython-input-38-3ac2a0db1591>\u001b[0m in \u001b[0;36m<module>\u001b[0;34m()\u001b[0m\n\u001b[1;32m     21\u001b[0m \u001b[0mprint\u001b[0m\u001b[0;34m(\u001b[0m\u001b[0;34m\"원의 널비:\"\u001b[0m\u001b[0;34m,\u001b[0m \u001b[0mcircle\u001b[0m\u001b[0;34m.\u001b[0m\u001b[0mget_area\u001b[0m\u001b[0;34m(\u001b[0m\u001b[0;34m)\u001b[0m\u001b[0;34m)\u001b[0m\u001b[0;34m\u001b[0m\u001b[0;34m\u001b[0m\u001b[0m\n\u001b[1;32m     22\u001b[0m \u001b[0;34m\u001b[0m\u001b[0m\n\u001b[0;32m---> 23\u001b[0;31m \u001b[0mprint\u001b[0m\u001b[0;34m(\u001b[0m\u001b[0mcircle\u001b[0m\u001b[0;34m.\u001b[0m\u001b[0mget_radius\u001b[0m\u001b[0;34m(\u001b[0m\u001b[0;34m)\u001b[0m\u001b[0;34m)\u001b[0m\u001b[0;34m\u001b[0m\u001b[0;34m\u001b[0m\u001b[0m\n\u001b[0m\u001b[1;32m     24\u001b[0m \u001b[0;34m\u001b[0m\u001b[0m\n\u001b[1;32m     25\u001b[0m \u001b[0;34m\u001b[0m\u001b[0m\n",
            "\u001b[0;32m<ipython-input-38-3ac2a0db1591>\u001b[0m in \u001b[0;36mget_radius\u001b[0;34m(self)\u001b[0m\n\u001b[1;32m     10\u001b[0m \u001b[0;34m\u001b[0m\u001b[0m\n\u001b[1;32m     11\u001b[0m   \u001b[0;32mdef\u001b[0m \u001b[0mget_radius\u001b[0m\u001b[0;34m(\u001b[0m\u001b[0mself\u001b[0m\u001b[0;34m)\u001b[0m\u001b[0;34m:\u001b[0m\u001b[0;34m\u001b[0m\u001b[0;34m\u001b[0m\u001b[0m\n\u001b[0;32m---> 12\u001b[0;31m     \u001b[0;32mreturn\u001b[0m \u001b[0mself\u001b[0m\u001b[0;34m.\u001b[0m\u001b[0m__radius\u001b[0m\u001b[0;34m\u001b[0m\u001b[0;34m\u001b[0m\u001b[0m\n\u001b[0m\u001b[1;32m     13\u001b[0m \u001b[0;34m\u001b[0m\u001b[0m\n\u001b[1;32m     14\u001b[0m   \u001b[0;32mdef\u001b[0m \u001b[0mset_radius\u001b[0m\u001b[0;34m(\u001b[0m\u001b[0mself\u001b[0m\u001b[0;34m,\u001b[0m\u001b[0mvalue\u001b[0m\u001b[0;34m)\u001b[0m\u001b[0;34m:\u001b[0m\u001b[0;34m\u001b[0m\u001b[0;34m\u001b[0m\u001b[0m\n",
            "\u001b[0;31mAttributeError\u001b[0m: 'Circle' object has no attribute '_Circle__radius'"
          ]
        }
      ]
    },
    {
      "cell_type": "code",
      "metadata": {
        "colab": {
          "base_uri": "https://localhost:8080/"
        },
        "id": "ICy5tHv30Nj3",
        "outputId": "7935ec4c-1c03-47b9-9e7c-b3bfd74f1c5b"
      },
      "source": [
        "class Parent:\r\n",
        "  def __init__(self):\r\n",
        "    self.value = \"테스트\"\r\n",
        "    print(\"Parent 클래스의 __init()__ 메소드가 호출되었습니다\")\r\n",
        "\r\n",
        "  def test(self):\r\n",
        "    print(\"Parent 클래스의 test() 메소드입니다.\")\r\n",
        "\r\n",
        "class Child(Parent):\r\n",
        "  def __init__(self):\r\n",
        "    Parent.__init__(self)\r\n",
        "    print(\"차일드 클래스의 이니셜 메소드가 호출되었습니다\")\r\n",
        "\r\n",
        "child = Child()\r\n",
        "\r\n",
        "child.test()\r\n",
        "print(child.value)"
      ],
      "execution_count": 39,
      "outputs": [
        {
          "output_type": "stream",
          "text": [
            "Parent 클래스의 __init()__ 메소드가 호출되었습니다\n",
            "차일드 클래스의 이니셜 메소드가 호출되었습니다\n",
            "Parent 클래스의 test() 메소드입니다.\n",
            "테스트\n"
          ],
          "name": "stdout"
        }
      ]
    },
    {
      "cell_type": "code",
      "metadata": {
        "colab": {
          "base_uri": "https://localhost:8080/",
          "height": 226
        },
        "id": "byJGTPsy9K2s",
        "outputId": "8b330866-7c98-4483-9cd0-e0955a7ea7f3"
      },
      "source": [
        "class CustomException(Exception):\r\n",
        "  def __init__(self):\r\n",
        "    Exception.__init__(self)\r\n",
        "    print(\"error maked by me\")\r\n",
        "\r\n",
        "  def __str__(self):\r\n",
        "    return \"오류발생\"\r\n",
        "\r\n",
        "raise CustomException"
      ],
      "execution_count": 40,
      "outputs": [
        {
          "output_type": "stream",
          "text": [
            "error maked by me\n"
          ],
          "name": "stdout"
        },
        {
          "output_type": "error",
          "ename": "CustomException",
          "evalue": "ignored",
          "traceback": [
            "\u001b[0;31m---------------------------------------------------------------------------\u001b[0m",
            "\u001b[0;31mCustomException\u001b[0m                           Traceback (most recent call last)",
            "\u001b[0;32m<ipython-input-40-ce7e94bd21d4>\u001b[0m in \u001b[0;36m<module>\u001b[0;34m()\u001b[0m\n\u001b[1;32m      7\u001b[0m     \u001b[0;32mreturn\u001b[0m \u001b[0;34m\"오류발생\"\u001b[0m\u001b[0;34m\u001b[0m\u001b[0;34m\u001b[0m\u001b[0m\n\u001b[1;32m      8\u001b[0m \u001b[0;34m\u001b[0m\u001b[0m\n\u001b[0;32m----> 9\u001b[0;31m \u001b[0;32mraise\u001b[0m \u001b[0mCustomException\u001b[0m\u001b[0;34m\u001b[0m\u001b[0;34m\u001b[0m\u001b[0m\n\u001b[0m",
            "\u001b[0;31mCustomException\u001b[0m: 오류발생"
          ]
        }
      ]
    },
    {
      "cell_type": "code",
      "metadata": {
        "colab": {
          "base_uri": "https://localhost:8080/"
        },
        "id": "FpaeIocV-D_I",
        "outputId": "6b8a5961-8824-45f0-f85c-5738b4d87470"
      },
      "source": [
        "class CustomException(Exception):\r\n",
        "  def __init__(self, message, value):\r\n",
        "    Exception.__init__(self)\r\n",
        "    self.message = message\r\n",
        "    self.value = value\r\n",
        "\r\n",
        "  def __str__(self):\r\n",
        "    return self.message\r\n",
        "\r\n",
        "  def print(self):\r\n",
        "    print(\"##오류 정보##\")\r\n",
        "    print(self.message)\r\n",
        "    print(self.value)\r\n",
        "\r\n",
        "\r\n",
        "try:\r\n",
        "  raise CustomException(\"딱히 이유없음\",273)\r\n",
        "\r\n",
        "except CustomException as e:\r\n",
        "  e.print()"
      ],
      "execution_count": 43,
      "outputs": [
        {
          "output_type": "stream",
          "text": [
            "##오류 정보##\n",
            "딱히 이유없음\n",
            "273\n"
          ],
          "name": "stdout"
        }
      ]
    },
    {
      "cell_type": "code",
      "metadata": {
        "id": "OpNNVYGUTNdO"
      },
      "source": [
        "# 막간 코드도장\r\n",
        "# 0~9까지의 문자로 된 숫자를 입력 받았을 때, 이 입력 값이 0~9까지의 숫자가 각각 한 번 씩만 사용된 것인지 확인하는 함수를 구하시오.\r\n",
        "\r\n",
        "#sample inputs: 0123456789 01234 01234567890 6789012345 012322456789\r\n",
        "\r\n",
        "#sample outputs: true false false true false\r\n",
        "\r\n",
        "#-> 무조건 0~9까지의 숫자를 모두 이용해야만 하는 조건인듯"
      ],
      "execution_count": null,
      "outputs": []
    },
    {
      "cell_type": "code",
      "metadata": {
        "colab": {
          "base_uri": "https://localhost:8080/"
        },
        "id": "4LKLbXVDTS58",
        "outputId": "e6c9fadf-36b9-4313-8c6d-3bd7cfa34c3a"
      },
      "source": [
        "# 최종 답안으로 가는 길\r\n",
        "\r\n",
        "num_list = [1,2,3,4,5,6,7,9,8,0]\r\n",
        "ex_list_t = [0,1,2,3,4,5,6,7,8,9]\r\n",
        "ex_list_f = [2,3,4,5,6,7,8,8]\r\n",
        "\r\n",
        "print(num_list)\r\n",
        "num_list_s = sorted(num_list)\r\n",
        "print(num_list_s)\r\n",
        "\r\n",
        "if len(num_list) == 10 and sorted(num_list) == sorted(ex_list_t):\r\n",
        "  print(\"True 입니다\")\r\n",
        "else:\r\n",
        "  print(\"False 입니다\")"
      ],
      "execution_count": 23,
      "outputs": [
        {
          "output_type": "stream",
          "text": [
            "[1, 2, 3, 4, 5, 6, 7, 9, 8, 0]\n",
            "[0, 1, 2, 3, 4, 5, 6, 7, 8, 9]\n",
            "True 입니다\n"
          ],
          "name": "stdout"
        }
      ]
    },
    {
      "cell_type": "code",
      "metadata": {
        "colab": {
          "base_uri": "https://localhost:8080/"
        },
        "id": "tPvbktE-_2DD",
        "outputId": "99a7503d-5a37-4a69-eb7d-33ff11d7186d"
      },
      "source": [
        "# 내 답안 완성!!!\r\n",
        "num_list = input(\"숫자를 나열하여 입력하시오>\")\r\n",
        "ex_list_t = [0,1,2,3,4,5,6,7,8,9]\r\n",
        "\r\n",
        "palette = []\r\n",
        "\r\n",
        "for i in range(0,len(num_list)):\r\n",
        "    palette.append(int(num_list[i]))\r\n",
        "\r\n",
        "\r\n",
        "#print(len(palette))\r\n",
        "#print(sorted(palette))\r\n",
        "#print(sorted(ex_list_t))\r\n",
        "\r\n",
        "\r\n",
        "if len(palette) == 10 and sorted(palette) == sorted(ex_list_t):\r\n",
        "  print(\"True 입니다\")\r\n",
        "else:\r\n",
        "  print(\"False 입니다\")\r\n",
        "\r\n"
      ],
      "execution_count": 47,
      "outputs": [
        {
          "output_type": "stream",
          "text": [
            "숫자를 나열하여 입력하시오>0123456789\n",
            "True 입니다\n"
          ],
          "name": "stdout"
        }
      ]
    },
    {
      "cell_type": "code",
      "metadata": {
        "id": "8Unz9938GiNL"
      },
      "source": [
        ""
      ],
      "execution_count": 32,
      "outputs": []
    }
  ]
}